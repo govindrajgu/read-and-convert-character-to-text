{
  "nbformat": 4,
  "nbformat_minor": 0,
  "metadata": {
    "kernelspec": {
      "display_name": "Python 3",
      "language": "python",
      "name": "python3"
    },
    "language_info": {
      "codemirror_mode": {
        "name": "ipython",
        "version": 3
      },
      "file_extension": ".py",
      "mimetype": "text/x-python",
      "name": "python",
      "nbconvert_exporter": "python",
      "pygments_lexer": "ipython3",
      "version": "3.8.5"
    },
    "colab": {
      "name": "conpdfimg.ipynb",
      "provenance": [],
      "collapsed_sections": []
    }
  },
  "cells": [
    {
      "cell_type": "code",
      "metadata": {
        "id": "wqZC9D-R5TkV"
      },
      "source": [
        "''' import required library and package'''\n",
        "\n",
        "\n",
        "from PIL import Image \n",
        "import pytesseract \n",
        "import sys \n",
        "from pdf2image import convert_from_path (r\"C:\\Program Files\\poppler-0.68.0\\bin\")   '''here i used poppler path '''\n",
        "import os"
      ],
      "execution_count": null,
      "outputs": []
    },
    {
      "cell_type": "code",
      "metadata": {
        "id": "-fBIuRQo5Tka"
      },
      "source": [
        "''' now open a required input file '''\n",
        "PDF_file = \"ocr.pdf\"\n",
        "\n"
      ],
      "execution_count": null,
      "outputs": []
    },
    {
      "cell_type": "code",
      "metadata": {
        "id": "h77s7-v_5Tkb"
      },
      "source": [
        "''' now convert the pdf file to image by using pdf2image package'''\n",
        "\n",
        "pages = convert_from_path(PDF_file, 500)  \n",
        "\n",
        "image_counter = 1 \n",
        "''' here the number of pages in pdf will be converted to image'''\n",
        "for page in pages: \n",
        "    filename = \"page_\"+str(image_counter)+\".jpg\"\n",
        "    page.save(filename, 'JPEG') \n",
        "    image_counter = image_counter + 1\n",
        "filelimit = image_counter-1\n",
        "'''here we are using the outfile to write the final output of the program'''\n",
        "\n",
        "outfile = \"out_text.txt\"    \n",
        "\n",
        "f = open(outfile, \"a\")"
      ],
      "execution_count": null,
      "outputs": []
    },
    {
      "cell_type": "code",
      "metadata": {
        "id": "5rBSzTAb5Tkc"
      },
      "source": [
        "''' now convert the images to the text by using google tesseract engine '''\n",
        "\n",
        "for i in range(1, filelimit + 1):\n",
        "    pytesseract.pytesseract.tesseract_cmd =(r\"C:\\Program Files (x86)\\Tesseract-OCR\\tesseract\")\n",
        "    filename = \"page_\"+str(i)+\".jpg\"\n",
        "    text = str(((pytesseract.image_to_string(Image.open(filename)))))\n",
        "    text = text.replace('-\\n', '') \n",
        "    f.write(text) \n",
        "    f.close()"
      ],
      "execution_count": null,
      "outputs": []
    }
  ]
}